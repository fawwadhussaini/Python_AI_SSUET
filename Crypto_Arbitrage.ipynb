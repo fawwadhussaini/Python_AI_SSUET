{
 "cells": [
  {
   "cell_type": "code",
   "execution_count": 274,
   "metadata": {
    "collapsed": true
   },
   "outputs": [],
   "source": [
    "import requests \n",
    "import matplotlib.pyplot as plt\n",
    "import pandas as pd\n"
   ]
  },
  {
   "cell_type": "code",
   "execution_count": 275,
   "metadata": {},
   "outputs": [
    {
     "name": "stdout",
     "output_type": "stream",
     "text": [
      "Enter Your Desired CryptoCurrencybtc\n",
      "Enter Your Target_Currencyusd\n"
     ]
    }
   ],
   "source": [
    "# API call\n",
    "url = 'https://api.cryptonator.com/api/full/'\n",
    "try:\n",
    "    base_currency = input ('Enter Your Desired CryptoCurrency')\n",
    "    target_currency = input ('Enter Your Target_Currency')\n",
    "    params = (base_currency+'-'+target_currency)\n",
    "    data_call = requests.get(url+params)\n",
    "    result = data_call.json()['ticker']['markets']\n",
    "    \n",
    "except:\n",
    "    print (\"Sorry, your listed currency isn't available\")\n"
   ]
  },
  {
   "cell_type": "code",
   "execution_count": 276,
   "metadata": {},
   "outputs": [
    {
     "data": {
      "text/html": [
       "<div>\n",
       "<style>\n",
       "    .dataframe thead tr:only-child th {\n",
       "        text-align: right;\n",
       "    }\n",
       "\n",
       "    .dataframe thead th {\n",
       "        text-align: left;\n",
       "    }\n",
       "\n",
       "    .dataframe tbody tr th {\n",
       "        vertical-align: top;\n",
       "    }\n",
       "</style>\n",
       "<table border=\"1\" class=\"dataframe\">\n",
       "  <thead>\n",
       "    <tr style=\"text-align: right;\">\n",
       "      <th></th>\n",
       "      <th>market</th>\n",
       "      <th>price</th>\n",
       "      <th>volume</th>\n",
       "    </tr>\n",
       "  </thead>\n",
       "  <tbody>\n",
       "    <tr>\n",
       "      <th>0</th>\n",
       "      <td>BitFinex</td>\n",
       "      <td>8186.00000000</td>\n",
       "      <td>74806.652894</td>\n",
       "    </tr>\n",
       "    <tr>\n",
       "      <th>1</th>\n",
       "      <td>Bitstamp</td>\n",
       "      <td>8171.82000000</td>\n",
       "      <td>20795.830824</td>\n",
       "    </tr>\n",
       "    <tr>\n",
       "      <th>2</th>\n",
       "      <td>Bittrex</td>\n",
       "      <td>8180.36000000</td>\n",
       "      <td>5808.406413</td>\n",
       "    </tr>\n",
       "    <tr>\n",
       "      <th>3</th>\n",
       "      <td>C-Cex</td>\n",
       "      <td>9261.00000000</td>\n",
       "      <td>1.445865</td>\n",
       "    </tr>\n",
       "    <tr>\n",
       "      <th>4</th>\n",
       "      <td>Cex.io</td>\n",
       "      <td>8300.50000000</td>\n",
       "      <td>1996.717407</td>\n",
       "    </tr>\n",
       "    <tr>\n",
       "      <th>5</th>\n",
       "      <td>Exmo</td>\n",
       "      <td>8771.00000000</td>\n",
       "      <td>1579.857802</td>\n",
       "    </tr>\n",
       "    <tr>\n",
       "      <th>6</th>\n",
       "      <td>Hitbtc</td>\n",
       "      <td>8656.75000000</td>\n",
       "      <td>6261.260000</td>\n",
       "    </tr>\n",
       "    <tr>\n",
       "      <th>7</th>\n",
       "      <td>Kraken</td>\n",
       "      <td>8130.30000000</td>\n",
       "      <td>15453.120992</td>\n",
       "    </tr>\n",
       "    <tr>\n",
       "      <th>8</th>\n",
       "      <td>Livecoin</td>\n",
       "      <td>8414.07017000</td>\n",
       "      <td>1452.164922</td>\n",
       "    </tr>\n",
       "    <tr>\n",
       "      <th>9</th>\n",
       "      <td>Poloniex</td>\n",
       "      <td>8218.70000102</td>\n",
       "      <td>5583.471504</td>\n",
       "    </tr>\n",
       "    <tr>\n",
       "      <th>10</th>\n",
       "      <td>wexnz</td>\n",
       "      <td>8341.19300000</td>\n",
       "      <td>1160.625730</td>\n",
       "    </tr>\n",
       "    <tr>\n",
       "      <th>11</th>\n",
       "      <td>YoBit</td>\n",
       "      <td>8790.11000000</td>\n",
       "      <td>189.971856</td>\n",
       "    </tr>\n",
       "  </tbody>\n",
       "</table>\n",
       "</div>"
      ],
      "text/plain": [
       "      market          price        volume\n",
       "0   BitFinex  8186.00000000  74806.652894\n",
       "1   Bitstamp  8171.82000000  20795.830824\n",
       "2    Bittrex  8180.36000000   5808.406413\n",
       "3      C-Cex  9261.00000000      1.445865\n",
       "4     Cex.io  8300.50000000   1996.717407\n",
       "5       Exmo  8771.00000000   1579.857802\n",
       "6     Hitbtc  8656.75000000   6261.260000\n",
       "7     Kraken  8130.30000000  15453.120992\n",
       "8   Livecoin  8414.07017000   1452.164922\n",
       "9   Poloniex  8218.70000102   5583.471504\n",
       "10     wexnz  8341.19300000   1160.625730\n",
       "11     YoBit  8790.11000000    189.971856"
      ]
     },
     "execution_count": 276,
     "metadata": {},
     "output_type": "execute_result"
    }
   ],
   "source": [
    "# DataFrame \n",
    "grid = pd.DataFrame(result)\n",
    "grid"
   ]
  },
  {
   "cell_type": "code",
   "execution_count": 277,
   "metadata": {},
   "outputs": [
    {
     "name": "stdout",
     "output_type": "stream",
     "text": [
      "market           Kraken\n",
      "price     8130.30000000\n",
      "volume          15453.1\n",
      "Name: 7, dtype: object\n",
      "\n",
      "market             Exmo\n",
      "price     8771.00000000\n",
      "volume          1579.86\n",
      "Name: 5, dtype: object\n"
     ]
    }
   ],
   "source": [
    "#Finding Best Possible Buying and Selling Price considering exchange should have good volume transfer e.g: 1000+\n",
    "filter_data=grid[grid['volume'] > 1000]\n",
    "\n",
    "proposed_buying_exchange=filter_data.loc[filter_data['price'].idxmin()]\n",
    "proposed_selling_exchange=filter_data.loc[filter_data['price'].idxmax()]\n",
    "\n",
    "print (str(proposed_buying_exchange)+ '\\n\\n' +str(proposed_selling_exchange))"
   ]
  },
  {
   "cell_type": "code",
   "execution_count": 278,
   "metadata": {},
   "outputs": [
    {
     "data": {
      "text/plain": [
       "641"
      ]
     },
     "execution_count": 278,
     "metadata": {},
     "output_type": "execute_result"
    }
   ],
   "source": [
    "profit = 0\n",
    "profit = float(proposed_selling_exchange['price'])-float(proposed_buying_exchange['price'])\n",
    "round(profit)"
   ]
  },
  {
   "cell_type": "code",
   "execution_count": 279,
   "metadata": {},
   "outputs": [
    {
     "data": {
      "image/png": "[encoded data removed]",
      "text/plain": [
       "<matplotlib.figure.Figure at 0x19b04037400>"
      ]
     },
     "metadata": {},
     "output_type": "display_data"
    }
   ],
   "source": [
    "fig = plt.figure(figsize=(12,6))\n",
    "chart = fig.add_subplot(111)\n",
    "chart.scatter(grid['price'],grid['volume'],c = 'green', s= 40)\n",
    "chart.set_title('Arbitrage '+ base_currency + ' to ' + target_currency)\n",
    "chart.set_ylabel('Trading Volume')\n",
    "chart.set_xlabel('Price in '+ target_currency)\n",
    "chart.annotate('  Buy From:'+proposed_buying_exchange['market']+ ' at '+ str(round(float(proposed_buying_exchange['price']))), xy=(proposed_buying_exchange['price'],proposed_buying_exchange['volume']),color='blue')               \n",
    "chart.annotate('  Sell In:'+proposed_selling_exchange['market']+ ' at '+ str(round(float(proposed_selling_exchange['price']))), xy=(proposed_selling_exchange['price'],proposed_selling_exchange['volume']),color='blue')\n",
    "plt.plot((proposed_buying_exchange['price'],proposed_selling_exchange['price']),(proposed_buying_exchange['volume'],proposed_selling_exchange['volume']),linestyle = 'dashed')               \n",
    "plt.show()"
   ]
  },
  {
   "cell_type": "code",
   "execution_count": null,
   "metadata": {
    "collapsed": true
   },
   "outputs": [],
   "source": []
  }
 ],
 "metadata": {
  "kernelspec": {
   "display_name": "Python 3",
   "language": "python",
   "name": "python3"
  },
  "language_info": {
   "codemirror_mode": {
    "name": "ipython",
    "version": 3
   },
   "file_extension": ".py",
   "mimetype": "text/x-python",
   "name": "python",
   "nbconvert_exporter": "python",
   "pygments_lexer": "ipython3",
   "version": "3.6.2"
  }
 },
 "nbformat": 4,
 "nbformat_minor": 2
}
