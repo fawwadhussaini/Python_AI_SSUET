{
 "cells": [
  {
   "cell_type": "code",
   "execution_count": 257,
   "metadata": {
    "collapsed": true
   },
   "outputs": [],
   "source": [
    "import requests \n",
    "import matplotlib.pyplot as plt\n",
    "import pandas as pd\n"
   ]
  },
  {
   "cell_type": "code",
   "execution_count": 269,
   "metadata": {},
   "outputs": [
    {
     "name": "stdout",
     "output_type": "stream",
     "text": [
      "Enter Your Desired CryptoCurrencyxrp\n",
      "Enter Your Target_Currencyusd\n"
     ]
    }
   ],
   "source": [
    "# API call\n",
    "url = 'https://api.cryptonator.com/api/full/'\n",
    "try:\n",
    "    base_currency = input ('Enter Your Desired CryptoCurrency')\n",
    "    target_currency = input ('Enter Your Target_Currency')\n",
    "    params = (base_currency+'-'+target_currency)\n",
    "    data_call = requests.get(url+params)\n",
    "    result = data_call.json()['ticker']['markets']\n",
    "    \n",
    "except:\n",
    "    print (\"Sorry, your listed currency isn't available\")\n"
   ]
  },
  {
   "cell_type": "code",
   "execution_count": 270,
   "metadata": {},
   "outputs": [
    {
     "data": {
      "text/html": [
       "<div>\n",
       "<style>\n",
       "    .dataframe thead tr:only-child th {\n",
       "        text-align: right;\n",
       "    }\n",
       "\n",
       "    .dataframe thead th {\n",
       "        text-align: left;\n",
       "    }\n",
       "\n",
       "    .dataframe tbody tr th {\n",
       "        vertical-align: top;\n",
       "    }\n",
       "</style>\n",
       "<table border=\"1\" class=\"dataframe\">\n",
       "  <thead>\n",
       "    <tr style=\"text-align: right;\">\n",
       "      <th></th>\n",
       "      <th>market</th>\n",
       "      <th>price</th>\n",
       "      <th>volume</th>\n",
       "    </tr>\n",
       "  </thead>\n",
       "  <tbody>\n",
       "    <tr>\n",
       "      <th>0</th>\n",
       "      <td>BitFinex</td>\n",
       "      <td>0.68789000</td>\n",
       "      <td>4.459819e+07</td>\n",
       "    </tr>\n",
       "    <tr>\n",
       "      <th>1</th>\n",
       "      <td>Bittrex</td>\n",
       "      <td>0.68730016</td>\n",
       "      <td>4.550977e+06</td>\n",
       "    </tr>\n",
       "    <tr>\n",
       "      <th>2</th>\n",
       "      <td>Exmo</td>\n",
       "      <td>0.73620000</td>\n",
       "      <td>2.521625e+06</td>\n",
       "    </tr>\n",
       "    <tr>\n",
       "      <th>3</th>\n",
       "      <td>Hitbtc</td>\n",
       "      <td>0.73100000</td>\n",
       "      <td>1.422972e+06</td>\n",
       "    </tr>\n",
       "    <tr>\n",
       "      <th>4</th>\n",
       "      <td>Kraken</td>\n",
       "      <td>0.68840000</td>\n",
       "      <td>1.274747e+07</td>\n",
       "    </tr>\n",
       "    <tr>\n",
       "      <th>5</th>\n",
       "      <td>Poloniex</td>\n",
       "      <td>0.69000000</td>\n",
       "      <td>6.006265e+06</td>\n",
       "    </tr>\n",
       "  </tbody>\n",
       "</table>\n",
       "</div>"
      ],
      "text/plain": [
       "     market       price        volume\n",
       "0  BitFinex  0.68789000  4.459819e+07\n",
       "1   Bittrex  0.68730016  4.550977e+06\n",
       "2      Exmo  0.73620000  2.521625e+06\n",
       "3    Hitbtc  0.73100000  1.422972e+06\n",
       "4    Kraken  0.68840000  1.274747e+07\n",
       "5  Poloniex  0.69000000  6.006265e+06"
      ]
     },
     "execution_count": 270,
     "metadata": {},
     "output_type": "execute_result"
    }
   ],
   "source": [
    "# DataFrame \n",
    "grid = pd.DataFrame(result)\n",
    "grid"
   ]
  },
  {
   "cell_type": "code",
   "execution_count": 271,
   "metadata": {},
   "outputs": [
    {
     "name": "stdout",
     "output_type": "stream",
     "text": [
      "market        Bittrex\n",
      "price      0.68730016\n",
      "volume    4.55098e+06\n",
      "Name: 1, dtype: object\n",
      "\n",
      "market           Exmo\n",
      "price      0.73620000\n",
      "volume    2.52162e+06\n",
      "Name: 2, dtype: object\n"
     ]
    }
   ],
   "source": [
    "#Finding Best Possible Buying and Selling Price considering exchange should have good volume transfer e.g: 1000+\n",
    "filter_data=grid[grid['volume'] > 1000]\n",
    "\n",
    "proposed_buying_exchange=filter_data.loc[filter_data['price'].idxmin()]\n",
    "proposed_selling_exchange=filter_data.loc[filter_data['price'].idxmax()]\n",
    "\n",
    "print (str(proposed_buying_exchange)+ '\\n\\n' +str(proposed_selling_exchange))"
   ]
  },
  {
   "cell_type": "code",
   "execution_count": 272,
   "metadata": {},
   "outputs": [
    {
     "data": {
      "text/plain": [
       "0"
      ]
     },
     "execution_count": 272,
     "metadata": {},
     "output_type": "execute_result"
    }
   ],
   "source": [
    "profit = 0\n",
    "profit = float(proposed_selling_exchange['price'])-float(proposed_buying_exchange['price'])\n",
    "round(profit)"
   ]
  },
  {
   "cell_type": "code",
   "execution_count": 273,
   "metadata": {},
   "outputs": [
    {
     "data": {
      "image/png": "[encoded data removed]",
      "text/plain": [
       "<matplotlib.figure.Figure at 0x19b021fbac8>"
      ]
     },
     "metadata": {},
     "output_type": "display_data"
    }
   ],
   "source": [
    "fig = plt.figure(figsize=(12,6))\n",
    "chart = fig.add_subplot(111)\n",
    "chart.scatter(grid['price'],grid['volume'],c = 'green', s= 40)\n",
    "chart.set_title('Arbitrage '+ base_currency + ' to ' + target_currency)\n",
    "chart.set_ylabel('Trading Volume')\n",
    "chart.set_xlabel('Price in '+ target_currency)\n",
    "chart.annotate('  Buy From:'+proposed_buying_exchange['market']+ ' at '+ str(round(float(proposed_buying_exchange['price']))), xy=(proposed_buying_exchange['price'],proposed_buying_exchange['volume']),color='blue')               \n",
    "chart.annotate('  Sell In:'+proposed_selling_exchange['market']+ ' at '+ str(round(float(proposed_selling_exchange['price']))), xy=(proposed_selling_exchange['price'],proposed_selling_exchange['volume']),color='blue')\n",
    "plt.plot((proposed_buying_exchange['price'],proposed_selling_exchange['price']),(proposed_buying_exchange['volume'],proposed_selling_exchange['volume']),linestyle = 'dashed')               \n",
    "plt.show()"
   ]
  },
  {
   "cell_type": "code",
   "execution_count": null,
   "metadata": {
    "collapsed": true
   },
   "outputs": [],
   "source": []
  }
 ],
 "metadata": {
  "kernelspec": {
   "display_name": "Python 3",
   "language": "python",
   "name": "python3"
  },
  "language_info": {
   "codemirror_mode": {
    "name": "ipython",
    "version": 3
   },
   "file_extension": ".py",
   "mimetype": "text/x-python",
   "name": "python",
   "nbconvert_exporter": "python",
   "pygments_lexer": "ipython3",
   "version": "3.6.2"
  }
 },
 "nbformat": 4,
 "nbformat_minor": 2
}
